{
 "cells": [
  {
   "cell_type": "code",
   "execution_count": null,
   "id": "358e15b4",
   "metadata": {},
   "outputs": [
    {
     "name": "stdout",
     "output_type": "stream",
     "text": [
      "Requirement already satisfied: numpy in ./lib/python3.12/site-packages (2.3.1)\n"
     ]
    }
   ],
   "source": [
    "!pip install numpy\n"
   ]
  },
  {
   "cell_type": "code",
   "execution_count": 1,
   "id": "e17cce00",
   "metadata": {},
   "outputs": [
    {
     "name": "stdout",
     "output_type": "stream",
     "text": [
      "[1 2 3 4 5 6]\n",
      "<class 'numpy.ndarray'>\n",
      "(6,)\n",
      "[[1 2 3 4 5 6]]\n"
     ]
    }
   ],
   "source": [
    "import numpy as np\n",
    "#create arrays using numpy\n",
    "ar1=np.array([1,2,3,4,5,6])\n",
    "print(ar1)\n",
    "print(type(ar1))\n",
    "#type of array\n",
    "print(ar1.shape)\n",
    "#in single dimension only one number is avialable \n",
    "#one d array have only one braces\n",
    "re=ar1.reshape(1,6)#1row 6 coloum\n",
    "print(re)\n"
   ]
  },
  {
   "cell_type": "code",
   "execution_count": null,
   "id": "d9358d2d",
   "metadata": {},
   "outputs": [
    {
     "data": {
      "text/plain": [
       "(2, 6)"
      ]
     },
     "execution_count": 9,
     "metadata": {},
     "output_type": "execute_result"
    }
   ],
   "source": [
    "#2d array\n",
    "arr=np.array([[1,2,3,4,5,6],[1,2,3,4,5,6]])\n",
    "arr.shape#2rows and 6 coloum\n"
   ]
  },
  {
   "cell_type": "code",
   "execution_count": null,
   "id": "2fabe9f2",
   "metadata": {},
   "outputs": [
    {
     "data": {
      "text/plain": [
       "array([[0],\n",
       "       [2],\n",
       "       [4],\n",
       "       [6],\n",
       "       [8]])"
      ]
     },
     "execution_count": 13,
     "metadata": {},
     "output_type": "execute_result"
    }
   ],
   "source": [
    "#create array using inbuilt function\n",
    "#arange fuunction is used to iterate from 0-10 eith ++2\n",
    "np.arange(0,10,2).reshape(5,1)"
   ]
  },
  {
   "cell_type": "code",
   "execution_count": 15,
   "id": "568ebcba",
   "metadata": {},
   "outputs": [
    {
     "data": {
      "text/plain": [
       "array([[1., 1., 1.],\n",
       "       [1., 1., 1.],\n",
       "       [1., 1., 1.],\n",
       "       [1., 1., 1.],\n",
       "       [1., 1., 1.]])"
      ]
     },
     "execution_count": 15,
     "metadata": {},
     "output_type": "execute_result"
    }
   ],
   "source": [
    "#ones function is used to create the 2d array with all ones in it \n",
    "np.ones((5,3))"
   ]
  },
  {
   "cell_type": "code",
   "execution_count": 20,
   "id": "95e631db",
   "metadata": {},
   "outputs": [
    {
     "data": {
      "text/plain": [
       "array([[1., 0., 0.],\n",
       "       [0., 1., 0.],\n",
       "       [0., 0., 1.]])"
      ]
     },
     "execution_count": 20,
     "metadata": {},
     "output_type": "execute_result"
    }
   ],
   "source": [
    "#identity matrix digonal element is ones \n",
    "#2d matrix of m=n\n",
    "np.eye((3))"
   ]
  },
  {
   "cell_type": "code",
   "execution_count": null,
   "id": "f83366a8",
   "metadata": {},
   "outputs": [
    {
     "name": "stdout",
     "output_type": "stream",
     "text": [
      "[[1 2 3 4 5]\n",
      " [1 2 3 4 5]]\n",
      "(2, 5)\n",
      "2\n",
      "int64\n",
      "8\n",
      "10\n"
     ]
    }
   ],
   "source": [
    "arr=np.array([[1,2,3,4,5],[1,2,3,4,5]])\n",
    "print(arr)\n",
    "print(arr.shape)\n",
    "print(arr.ndim)#used to find dimension\n",
    "print(arr.dtype)#find data type\n",
    "print(arr.itemsize)#how much bytes is used\n",
    "print(arr.size)#no of elements"
   ]
  },
  {
   "cell_type": "code",
   "execution_count": null,
   "id": "0e51325d",
   "metadata": {},
   "outputs": [
    {
     "name": "stdout",
     "output_type": "stream",
     "text": [
      "addition is  [ 2 25  7  9 11]\n",
      "addition is  [ 0 21  1  1  1]\n",
      "addition is  [ 1 46 12 20 30]\n"
     ]
    }
   ],
   "source": [
    "##vector numpy operation \n",
    "###return type a;so be an array \n",
    "arr1=np.array([1,23,4,5,6])\n",
    "arr2=np.array([1,2,3,4,5])\n",
    "#element wise addition \n",
    "print(\"addition is \", arr1+arr2)\n",
    "#elme,emt wise subtraction \n",
    "print(\"subtraction is \", arr1-arr2)\n",
    "print(\"addition is \", arr1*arr2)"
   ]
  },
  {
   "cell_type": "code",
   "execution_count": 29,
   "id": "59958ea6",
   "metadata": {},
   "outputs": [
    {
     "name": "stdout",
     "output_type": "stream",
     "text": [
      "[1.41421356 1.73205081 2.         2.23606798 2.44948974]\n",
      "[  7.3890561   20.08553692  54.59815003 148.4131591  403.42879349]\n",
      "[ 0.90929743  0.14112001 -0.7568025  -0.95892427 -0.2794155 ]\n",
      "[0.69314718 1.09861229 1.38629436 1.60943791 1.79175947]\n"
     ]
    }
   ],
   "source": [
    "arr=np.array([2,3,4,5,6])\n",
    "print(np.sqrt(arr))\n",
    "print(np.exp(arr))\n",
    "print(np.sin(arr))\n",
    "print(np.log(arr))"
   ]
  },
  {
   "cell_type": "code",
   "execution_count": 40,
   "id": "559bcde2",
   "metadata": {},
   "outputs": [
    {
     "name": "stdout",
     "output_type": "stream",
     "text": [
      "\n",
      " [[1 2 3 4 5]\n",
      " [2 3 4 5 6]\n",
      " [1 2 3 4 5]]\n",
      "1\n",
      "[[2 3 4 5 6]\n",
      " [1 2 3 4 5]]\n",
      "[[4 5 6]\n",
      " [3 4 5]]\n",
      "[[4 5]\n",
      " [5 6]]\n"
     ]
    }
   ],
   "source": [
    "#array slicing and indexing \n",
    "arr=np.array([[1,2,3,4,5],[2,3,4,5,6],[1,2,3,4,5]])\n",
    "print(\"\\n\",arr)\n",
    "print(arr[0][0])\n",
    "print(arr[1:])#it iterate over 1row to nth row\n",
    "print(arr[1: ,2:])#it iterate rom 1 row to nth an in row\n",
    "#from 2 coloum to nth coloum\n",
    "print(arr[0:2,3:])\n",
    "\n"
   ]
  },
  {
   "cell_type": "code",
   "execution_count": null,
   "id": "fb03114a",
   "metadata": {},
   "outputs": [
    {
     "name": "stdout",
     "output_type": "stream",
     "text": [
      "[[100   2   3   4   5]\n",
      " [100 200 300 200 500]\n",
      " [100 100 100 100 100]]\n",
      "[[100   2   3   4   5]\n",
      " [100 200 300 200 500]\n",
      " [100 100 100 100 100]]\n"
     ]
    }
   ],
   "source": [
    "#modify array element \n",
    "arr[0][0]=100\n",
    "print(arr)\n",
    "arr[1:2]=[100,200,300,200,500]\n",
    "print(arr)"
   ]
  },
  {
   "cell_type": "code",
   "execution_count": 49,
   "id": "28b219cc",
   "metadata": {},
   "outputs": [
    {
     "name": "stdout",
     "output_type": "stream",
     "text": [
      "3.0\n",
      "1.4142135623730951\n",
      "3.0\n",
      "2.0\n",
      "[-1.41421356 -0.70710678  0.          0.70710678  1.41421356]\n"
     ]
    }
   ],
   "source": [
    "#statical concept normalization\n",
    "data=np.array([1,2,3,4,5])\n",
    "print(np.mean(data))\n",
    "print(np.std(data))\n",
    "print(np.median(data))\n",
    "print(np.var(data))\n",
    "#normalization\n",
    "normalizeddata=(data-np.mean(data))/np.std(data)\n",
    "print(normalizeddata)\n"
   ]
  },
  {
   "cell_type": "code",
   "execution_count": 60,
   "id": "0c6d166c",
   "metadata": {},
   "outputs": [
    {
     "name": "stdout",
     "output_type": "stream",
     "text": [
      "[1 2 3 4 5]\n"
     ]
    }
   ],
   "source": [
    "#logical operation \n",
    "arr=np.array([1,2,3,4,5,8,9,10,2003])\n",
    "print(data[(data>2)|(data<10)])\n"
   ]
  }
 ],
 "metadata": {
  "kernelspec": {
   "display_name": "Python 3",
   "language": "python",
   "name": "python3"
  },
  "language_info": {
   "codemirror_mode": {
    "name": "ipython",
    "version": 3
   },
   "file_extension": ".py",
   "mimetype": "text/x-python",
   "name": "python",
   "nbconvert_exporter": "python",
   "pygments_lexer": "ipython3",
   "version": "3.12.0"
  }
 },
 "nbformat": 4,
 "nbformat_minor": 5
}
